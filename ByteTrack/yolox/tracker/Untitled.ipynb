{
 "cells": [
  {
   "cell_type": "code",
   "execution_count": 10,
   "id": "088b68fa-9559-42d5-b5c7-d7c41482e61b",
   "metadata": {
    "tags": []
   },
   "outputs": [],
   "source": [
    "from byte_tracker import BYTETracker"
   ]
  },
  {
   "cell_type": "code",
   "execution_count": null,
   "id": "df6f8a8c-5d3a-4a9f-9f2c-c1cefa6041ad",
   "metadata": {},
   "outputs": [],
   "source": []
  }
 ],
 "metadata": {
  "kernelspec": {
   "display_name": "test2",
   "language": "python",
   "name": "test2"
  },
  "language_info": {
   "codemirror_mode": {
    "name": "ipython",
    "version": 3
   },
   "file_extension": ".py",
   "mimetype": "text/x-python",
   "name": "python",
   "nbconvert_exporter": "python",
   "pygments_lexer": "ipython3",
   "version": "3.8.18"
  }
 },
 "nbformat": 4,
 "nbformat_minor": 5
}
